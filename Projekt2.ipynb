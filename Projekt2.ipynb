{
 "cells": [
  {
   "cell_type": "code",
   "execution_count": null,
   "id": "5a939a9b",
   "metadata": {},
   "outputs": [],
   "source": [
    "import numpy as np\n",
    "import random\n",
    "\n",
    "class HopfieldNetwork:\n",
    "    def __init__(self,number_of_neurons):\n",
    "        self.n = number_of_neurons\n",
    "        self.w = np.zeros((number_of_neurons,number_of_neurons)) #Macierz wag\n",
    "        self.b = np.zeros(number_of_neurons) #Wektor progów\n",
    "            \n",
    "    def get_patterns(self, patterns): #Uczenie paternów za pomocą reguły Heba\n",
    "        for i in range(len(patterns)): \n",
    "            self.w += np.outer(patterns[i], patterns[i])\n",
    "        self.w /= len(patterns)\n",
    "        self.w -= np.identity(self.n)\n",
    "        \n",
    "    def activation(self,x,b):\n",
    "        return np.where(x >= b, 1, -1)\n",
    "\n",
    "    \n",
    "    def update_rule(self, state):\n",
    "        updated_state = state.copy()\n",
    "        order = np.random.permutation(self.n)\n",
    "        for i in order:\n",
    "            net_input = np.dot(self.w[i, :], state)\n",
    "            updated_state[i] = self.activation(net_input, self.b[i])\n",
    "        return updated_state\n",
    "\n",
    "    def energy(self, state):\n",
    "        return -0.5 * np.dot(state, np.dot(self.w , state))\n",
    "    \n",
    "    def simulate(self, state, max_steps=100):\n",
    "        current_state = state.copy()\n",
    "        current_energy = self.energy(current_state)\n",
    "        for _ in range(max_steps):\n",
    "            next_state = self.update_rule(current_state)\n",
    "            next_energy = self.energy(next_state)\n",
    "            if np.array_equal(next_state, current_state):\n",
    "                print(\"Network stabilized.\")\n",
    "                break\n",
    "            elif next_energy >= current_energy:\n",
    "                print(\"Energy increased, stopping update.\")\n",
    "                break\n",
    "            current_state = next_state\n",
    "            current_energy = next_energy\n",
    "        return current_state\n",
    "            \n",
    "        \n",
    "        \n",
    "            "
   ]
  },
  {
   "cell_type": "code",
   "execution_count": 35,
   "id": "069e7be7",
   "metadata": {},
   "outputs": [
    {
     "name": "stdout",
     "output_type": "stream",
     "text": [
      "Network stabilized.\n",
      "Initial noisy input:\n",
      "[ 1 -1  1 -1]\n",
      "Final state after simulation:\n",
      "[ 1 -1  1 -1]\n",
      "Stored patterns:\n",
      "[[1, -1, 1, -1], [1, 1, -1, -1]]\n"
     ]
    }
   ],
   "source": [
    "pattern1 = [1, -1, 1, -1]\n",
    "pattern2 = [1, 1, -1, -1]\n",
    "patterns = [pattern1,pattern2]\n",
    "net = HopfieldNetwork(4)\n",
    "net.get_patterns(patterns)\n",
    "\n",
    "original_pattern = pattern1\n",
    "noise = np.random.choice([-1, 1], size=4, p=[0.1, 0.9])  # 10% noise\n",
    "noisy_input = original_pattern * noise\n",
    "\n",
    "# Run the simulation\n",
    "final_state =net. simulate(noisy_input)\n",
    "\n",
    "# Display results\n",
    "print(\"Initial noisy input:\")\n",
    "print(noisy_input)\n",
    "print(\"Final state after simulation:\")\n",
    "print(final_state)\n",
    "print(\"Stored patterns:\")\n",
    "print(patterns)"
   ]
  },
  {
   "cell_type": "code",
   "execution_count": 38,
   "id": "5a813f47",
   "metadata": {},
   "outputs": [],
   "source": [
    "import csv\n",
    "def read_patterns_from_csv(file_name):\n",
    "    patterns = []\n",
    "    with open(file_name, mode='r') as file:\n",
    "        reader = csv.reader(file)\n",
    "        for row in reader:\n",
    "            pattern = np.array([int(x) for x in row])\n",
    "            patterns.append(pattern)\n",
    "    return np.array(patterns)"
   ]
  },
  {
   "cell_type": "code",
   "execution_count": 41,
   "id": "fd7c6ed6",
   "metadata": {},
   "outputs": [
    {
     "name": "stdout",
     "output_type": "stream",
     "text": [
      "Network stabilized.\n",
      "Initial noisy input:\n",
      "[ 1  1  1  1  1  1 -1  1 -1  1 -1 -1 -1  1  1 -1  1 -1 -1  1  1  1 -1 -1\n",
      " -1 -1 -1  1  1 -1 -1 -1  1 -1  1  1 -1 -1 -1 -1 -1  1  1  1 -1  1  1  1\n",
      "  1]\n",
      "Final state after simulation:\n",
      "[ 1  1  1  1  1  1  1  1 -1 -1 -1 -1 -1  1  1 -1 -1 -1 -1 -1  1  1 -1 -1\n",
      " -1 -1 -1  1  1 -1 -1 -1 -1 -1  1  1 -1 -1 -1 -1 -1  1  1  1  1  1  1  1\n",
      "  1]\n",
      "Stored patterns:\n",
      "[[ 1 -1 -1 -1 -1 -1  1 -1  1 -1 -1 -1  1 -1 -1 -1  1 -1  1 -1 -1 -1 -1 -1\n",
      "   1 -1 -1 -1 -1 -1  1 -1  1 -1 -1 -1  1 -1 -1 -1  1 -1  1 -1 -1 -1 -1 -1\n",
      "   1]\n",
      " [ 1  1  1  1  1  1  1  1 -1 -1 -1 -1 -1  1  1 -1 -1 -1 -1 -1  1  1 -1 -1\n",
      "  -1 -1 -1  1  1 -1 -1 -1 -1 -1  1  1 -1 -1 -1 -1 -1  1  1  1  1  1  1  1\n",
      "   1]\n",
      " [-1 -1 -1 -1 -1 -1 -1 -1 -1 -1 -1 -1 -1 -1 -1 -1  1  1  1 -1 -1 -1 -1  1\n",
      "   1  1 -1 -1 -1 -1  1  1  1 -1 -1 -1 -1 -1 -1 -1 -1 -1 -1 -1 -1 -1 -1 -1\n",
      "  -1]\n",
      " [-1 -1 -1  1 -1 -1 -1 -1 -1  1 -1  1 -1 -1 -1  1  1 -1  1  1 -1  1  1  1\n",
      "  -1  1  1  1 -1  1  1 -1  1  1 -1 -1 -1  1 -1  1 -1 -1 -1 -1 -1  1 -1 -1\n",
      "  -1]\n",
      " [ 1  1  1 -1  1  1  1  1  1  1 -1  1  1  1  1  1  1 -1  1  1  1 -1 -1 -1\n",
      "  -1 -1 -1 -1  1  1  1 -1  1  1  1  1  1  1 -1  1  1  1  1  1  1 -1  1  1\n",
      "   1]]\n"
     ]
    }
   ],
   "source": [
    "patterns = read_patterns_from_csv(\"small-7x7.csv\")\n",
    "net = HopfieldNetwork(49)\n",
    "net.get_patterns(patterns)\n",
    "\n",
    "original_pattern = patterns[1]\n",
    "noise = np.random.choice([-1, 1], size=49, p=[0.1, 0.9])  # 10% noise\n",
    "noisy_input = original_pattern * noise\n",
    "\n",
    "# Run the simulation\n",
    "final_state =net. simulate(noisy_input)\n",
    "\n",
    "# Display results\n",
    "print(\"Initial noisy input:\")\n",
    "print(noisy_input)\n",
    "print(\"Final state after simulation:\")\n",
    "print(final_state)\n",
    "print(\"Stored patterns:\")\n",
    "print(patterns)"
   ]
  },
  {
   "cell_type": "code",
   "execution_count": 44,
   "id": "9cc52cc1",
   "metadata": {},
   "outputs": [],
   "source": [
    "import matplotlib.pyplot as plt\n",
    "def visualize_pattern(pattern,n,m):\n",
    "    grid = pattern.reshape((n, m))\n",
    "    fig, ax = plt.subplots()\n",
    "    ax.imshow(grid, cmap='binary', interpolation='none')\n",
    "    ax.set_xticks([])\n",
    "    ax.set_yticks([])\n",
    "    plt.show()"
   ]
  },
  {
   "cell_type": "code",
   "execution_count": 46,
   "id": "38bd037f",
   "metadata": {},
   "outputs": [
    {
     "data": {
      "image/png": "[encoded data removed]",
      "text/plain": [
       "<Figure size 640x480 with 1 Axes>"
      ]
     },
     "metadata": {},
     "output_type": "display_data"
    },
    {
     "data": {
      "image/png": "[encoded data removed]",
      "text/plain": [
       "<Figure size 640x480 with 1 Axes>"
      ]
     },
     "metadata": {},
     "output_type": "display_data"
    },
    {
     "data": {
      "image/png": "[encoded data removed]",
      "text/plain": [
       "<Figure size 640x480 with 1 Axes>"
      ]
     },
     "metadata": {},
     "output_type": "display_data"
    }
   ],
   "source": [
    "visualize_pattern(original_pattern,7,7)\n",
    "visualize_pattern(noisy_input,7,7)\n",
    "visualize_pattern(final_state,7,7)\n"
   ]
  },
  {
   "cell_type": "code",
   "execution_count": null,
   "id": "b3d61e8f",
   "metadata": {},
   "outputs": [],
   "source": []
  }
 ],
 "metadata": {
  "kernelspec": {
   "display_name": "Python 3 (ipykernel)",
   "language": "python",
   "name": "python3"
  },
  "language_info": {
   "codemirror_mode": {
    "name": "ipython",
    "version": 3
   },
   "file_extension": ".py",
   "mimetype": "text/x-python",
   "name": "python",
   "nbconvert_exporter": "python",
   "pygments_lexer": "ipython3",
   "version": "3.10.9"
  }
 },
 "nbformat": 4,
 "nbformat_minor": 5
}
