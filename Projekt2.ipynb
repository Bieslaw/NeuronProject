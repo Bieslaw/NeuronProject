{
 "cells": [
  {
   "cell_type": "code",
   "execution_count": 34,
   "id": "5a939a9b",
   "metadata": {},
   "outputs": [],
   "source": [
    "import numpy as np\n",
    "import random\n",
    "\n",
    "class HopfieldNetwork:\n",
    "    def __init__(self,number_of_neurons):\n",
    "        self.n = number_of_neurons\n",
    "        self.w = np.zeros((number_of_neurons,number_of_neurons)) #Macierz wag\n",
    "        self.b = np.zeros(number_of_neurons) #Wektor progów\n",
    "            \n",
    "    def get_patterns(self, patterns): #Uczenie paternów za pomocą reguły Heba\n",
    "        for i in range(len(patterns)): \n",
    "            self.w += np.outer(patterns[i], patterns[i])\n",
    "        self.w /= len(patterns)\n",
    "        self.w -= np.identity(self.n)\n",
    "        \n",
    "    def activation(self,x,b):\n",
    "        return np.where(x >= b, 1, -1)\n",
    "\n",
    "    \n",
    "    def update_rule(self, state):\n",
    "        # Asynchronously update neurons in random order\n",
    "        updated_state = state.copy()\n",
    "        order = np.random.permutation(self.n)\n",
    "        for i in order:\n",
    "            net_input = np.dot(self.w[i, :], state)\n",
    "            updated_state[i] = self.activation(net_input, self.b[i])\n",
    "        return updated_state\n",
    "\n",
    "    def energy(self, state):\n",
    "        return -0.5 * np.dot(state, np.dot(self.w , state))\n",
    "    \n",
    "    def simulate(self, state, max_steps=100):\n",
    "        current_state = state.copy()\n",
    "        current_energy = self.energy(current_state)\n",
    "        for _ in range(max_steps):\n",
    "            next_state = self.update_rule(current_state)\n",
    "            next_energy = self.energy(next_state)\n",
    "            if np.array_equal(next_state, current_state):\n",
    "                print(\"Network stabilized.\")\n",
    "                break\n",
    "            elif next_energy >= current_energy:\n",
    "                print(\"Energy increased, stopping update.\")\n",
    "                break\n",
    "            current_state = next_state\n",
    "            current_energy = next_energy\n",
    "        return current_state\n",
    "            \n",
    "        \n",
    "        \n",
    "            "
   ]
  },
  {
   "cell_type": "code",
   "execution_count": 35,
   "id": "069e7be7",
   "metadata": {},
   "outputs": [
    {
     "name": "stdout",
     "output_type": "stream",
     "text": [
      "Network stabilized.\n",
      "Initial noisy input:\n",
      "[ 1 -1  1 -1]\n",
      "Final state after simulation:\n",
      "[ 1 -1  1 -1]\n",
      "Stored patterns:\n",
      "[[1, -1, 1, -1], [1, 1, -1, -1]]\n"
     ]
    }
   ],
   "source": [
    "pattern1 = [1, -1, 1, -1]\n",
    "pattern2 = [1, 1, -1, -1]\n",
    "patterns = [pattern1,pattern2]\n",
    "net = HopfieldNetwork(4)\n",
    "net.get_patterns(patterns)\n",
    "\n",
    "original_pattern = pattern1\n",
    "noise = np.random.choice([-1, 1], size=4, p=[0.1, 0.9])  # 10% noise\n",
    "noisy_input = original_pattern * noise\n",
    "\n",
    "# Run the simulation\n",
    "final_state =net. simulate(noisy_input)\n",
    "\n",
    "# Display results\n",
    "print(\"Initial noisy input:\")\n",
    "print(noisy_input)\n",
    "print(\"Final state after simulation:\")\n",
    "print(final_state)\n",
    "print(\"Stored patterns:\")\n",
    "print(patterns)"
   ]
  },
  {
   "cell_type": "code",
   "execution_count": null,
   "id": "4b39c42b",
   "metadata": {},
   "outputs": [],
   "source": []
  }
 ],
 "metadata": {
  "kernelspec": {
   "display_name": "Python 3 (ipykernel)",
   "language": "python",
   "name": "python3"
  },
  "language_info": {
   "codemirror_mode": {
    "name": "ipython",
    "version": 3
   },
   "file_extension": ".py",
   "mimetype": "text/x-python",
   "name": "python",
   "nbconvert_exporter": "python",
   "pygments_lexer": "ipython3",
   "version": "3.10.9"
  }
 },
 "nbformat": 4,
 "nbformat_minor": 5
}
