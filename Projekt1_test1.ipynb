{
 "cells": [
  {
   "cell_type": "code",
   "execution_count": 6,
   "id": "2e1cb878-5da2-4a15-b73a-7dce723709e6",
   "metadata": {},
   "outputs": [
    {
     "data": {
      "text/plain": [
       "0.27996731413422016"
      ]
     },
     "execution_count": 6,
     "metadata": {},
     "output_type": "execute_result"
    }
   ],
   "source": [
    "import random\n",
    "import numpy as np\n",
    "random.seed(10)\n",
    "\n",
    "def sigm_fun(x):\n",
    "    return 1 / (1 + np.exp(-x))\n",
    "\n",
    "class Neuron:\n",
    "    def __init__(self, number_of_inputs):\n",
    "        self.number_of_inputs = number_of_inputs\n",
    "        weight_list = []\n",
    "        for i in range(number_of_inputs):\n",
    "            weight_list.append(random.uniform(-1, 1))\n",
    "        self.weights = np.asarray(weight_list)\n",
    "    \n",
    "    def work(self, inputs):\n",
    "        sum = np.sum(inputs * self.weights)\n",
    "        return(sigm_fun(sum))\n",
    "            \n",
    "\n",
    "class NeuralNet:\n",
    "    def __init__(self, number_of_neurons_in_layer, number_of_layers, number_of_inputs):\n",
    "        self.input_layer = []\n",
    "        for i in range(number_of_neurons_in_layer):\n",
    "            self.input_layer.append(Neuron(number_of_inputs))\n",
    "        self.net = []\n",
    "        for i in range(number_of_layers):\n",
    "            current_layer =[]\n",
    "            for j in range(number_of_neurons_in_layer):\n",
    "                current_layer.append(Neuron(number_of_neurons_in_layer))\n",
    "            self.net.append(current_layer)\n",
    "        self.output_layer = Neuron(number_of_neurons_in_layer)\n",
    "                                     \n",
    "    def predict(self, inputs):\n",
    "        temp_inputs = []\n",
    "        for neuron in self.input_layer:\n",
    "            temp_inputs.append(neuron.work(inputs))\n",
    "        temp_inputs2 = []\n",
    "        for layer in self.net:\n",
    "            for neuron in layer:\n",
    "                temp_inputs2.append(neuron.work(temp_inputs))\n",
    "            temp_inputs = temp_inputs2\n",
    "            temp_inputs2 = []\n",
    "        return self.output_layer.work(temp_inputs)\n",
    "    \n",
    "    def train(self, inputs, expected_value):\n",
    "        error = (self.predict(inputs) - expected_value)**2\n",
    "        #Calculate gradient\n",
    "        #Update weight\n",
    "        \n",
    "        \n",
    "net = NeuralNet(20,10,2)\n",
    "\n",
    "net.predict([1,5])\n"
   ]
  }
 ],
 "metadata": {
  "kernelspec": {
   "display_name": "Python 3 (ipykernel)",
   "language": "python",
   "name": "python3"
  },
  "language_info": {
   "codemirror_mode": {
    "name": "ipython",
    "version": 3
   },
   "file_extension": ".py",
   "mimetype": "text/x-python",
   "name": "python",
   "nbconvert_exporter": "python",
   "pygments_lexer": "ipython3",
   "version": "3.10.9"
  }
 },
 "nbformat": 4,
 "nbformat_minor": 5
}
